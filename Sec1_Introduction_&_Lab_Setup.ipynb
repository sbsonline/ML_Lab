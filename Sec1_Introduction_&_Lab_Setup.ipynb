{
  "nbformat": 4,
  "nbformat_minor": 0,
  "metadata": {
    "colab": {
      "provenance": [],
      "authorship_tag": "ABX9TyNpXDggWf+5zmuMqLgJKEKT",
      "include_colab_link": true
    },
    "kernelspec": {
      "name": "python3",
      "display_name": "Python 3"
    },
    "language_info": {
      "name": "python"
    }
  },
  "cells": [
    {
      "cell_type": "markdown",
      "metadata": {
        "id": "view-in-github",
        "colab_type": "text"
      },
      "source": [
        "<a href=\"https://colab.research.google.com/github/sbsonline/ML_Lab/blob/main/Sec1_Introduction_%26_Lab_Setup.ipynb\" target=\"_parent\"><img src=\"https://colab.research.google.com/assets/colab-badge.svg\" alt=\"Open In Colab\"/></a>"
      ]
    },
    {
      "cell_type": "markdown",
      "source": [
        "***Lab Setup***\n",
        "\n",
        "Objective: Set up your Python environment with the necessary libraries for machine learning.\n",
        "\n",
        "Tools and Libraries:\n",
        "\n",
        "•\tPython 3.x\n",
        "\n",
        "•\tJupyter Notebook or JupyterLab\n",
        "\n",
        "•\tLibraries: pandas, numpy, matplotlib, seaborn, scikit-learn, tensorflow, keras\n",
        "\n",
        "Steps:\n",
        "\n",
        "1.\tInstall Python: Download and install the latest version of Python from python.org.\n",
        "\n",
        "2.\tInstall Anaconda (Optional but Recommended):\n",
        "\n",
        "o\tAnaconda simplifies package management and deployment.\n",
        "\n",
        "o\tDownload from anaconda.com and follow the installation instructions.\n",
        "\n",
        "3.\tSet Up a Virtual Environment\n",
        "\n",
        "conda create -n ml_env python=3.8\n",
        "\n",
        "conda activate ml_env\n",
        "\n",
        "1.\tInstall Required Libraries:\n",
        "\n",
        "pip install pandas numpy matplotlib seaborn scikit-learn tensorflow keras jupyter\n",
        "\n",
        "2.\tLaunch Jupyter Notebook:\n",
        "\n",
        "jupyter notebook\n",
        "\n",
        "Verification:\n",
        "\n",
        "Create a new Jupyter Notebook and run the following code to verify installations:\n",
        "\n",
        "import pandas as pd\n",
        "\n",
        "import numpy as np\n",
        "\n",
        "import matplotlib.pyplot as plt\n",
        "\n",
        "import seaborn as sns\n",
        "\n",
        "import sklearn\n",
        "\n",
        "import tensorflow as tf\n",
        "\n",
        "import keras\n",
        "\n",
        "print(\"All libraries are successfully installed!\")\n",
        "\n",
        "Expected Output:\n",
        "\n",
        "All libraries are successfully installed!\n",
        "________________________________________\n"
      ],
      "metadata": {
        "id": "9StoUv7fQL35"
      }
    },
    {
      "cell_type": "code",
      "execution_count": null,
      "metadata": {
        "id": "C6-1MoHUai0l"
      },
      "outputs": [],
      "source": []
    }
  ]
}