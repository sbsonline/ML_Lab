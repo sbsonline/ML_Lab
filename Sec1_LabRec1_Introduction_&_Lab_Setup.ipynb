{
  "nbformat": 4,
  "nbformat_minor": 0,
  "metadata": {
    "colab": {
      "provenance": [],
      "authorship_tag": "ABX9TyObA4qpny+TOcbswx8BJdgN",
      "include_colab_link": true
    },
    "kernelspec": {
      "name": "python3",
      "display_name": "Python 3"
    },
    "language_info": {
      "name": "python"
    }
  },
  "cells": [
    {
      "cell_type": "markdown",
      "metadata": {
        "id": "view-in-github",
        "colab_type": "text"
      },
      "source": [
        "<a href=\"https://colab.research.google.com/github/sbsonline/ML_Lab/blob/main/Sec1_LabRec1_Introduction_%26_Lab_Setup.ipynb\" target=\"_parent\"><img src=\"https://colab.research.google.com/assets/colab-badge.svg\" alt=\"Open In Colab\"/></a>"
      ]
    },
    {
      "cell_type": "markdown",
      "source": [
        "**Objective: Genrate QR code and Text-to-Speech Converter.**"
      ],
      "metadata": {
        "id": "SL5h8I8pauH9"
      }
    },
    {
      "cell_type": "markdown",
      "source": [
        "**LAB Assignment**\n",
        "\n",
        "**Hint: https://pypi.org/**"
      ],
      "metadata": {
        "id": "kwKvbS2dSUzf"
      }
    },
    {
      "cell_type": "code",
      "execution_count": null,
      "metadata": {
        "id": "C6-1MoHUai0l"
      },
      "outputs": [],
      "source": []
    }
  ]
}